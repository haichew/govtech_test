{
 "cells": [
  {
   "cell_type": "code",
   "execution_count": 1,
   "metadata": {},
   "outputs": [],
   "source": [
    "import pandas as pd\n",
    "import schedule\n",
    "from datetime import date"
   ]
  },
  {
   "cell_type": "code",
   "execution_count": 2,
   "metadata": {},
   "outputs": [],
   "source": [
    "#Assuming there will always be 2 data files,\n",
    "\n",
    "df1 = None\n",
    "df2 = None"
   ]
  },
  {
   "cell_type": "code",
   "execution_count": 3,
   "metadata": {},
   "outputs": [],
   "source": [
    "def get_data_files():\n",
    "    df1 = pd.read_csv(\"dataset1.csv\")    # these 2 lines would be getters for the respective file locations\n",
    "    df2 = pd.read_csv(\"dataset2.csv\")"
   ]
  },
  {
   "cell_type": "code",
   "execution_count": 4,
   "metadata": {},
   "outputs": [],
   "source": [
    "def process_file(df, num):\n",
    "    df = df[df['name'].notna()]\n",
    "    df[['first_name', 'last_name']] = df['name'].str.split(' ', 1, expand=True)\n",
    "    df = df.drop(columns = ['name'])\n",
    "    df['price'] = df['price'].apply(lambda x: float(x.lstrip('0')) if type(x) == str else x)\n",
    "    df['above_100'] = df['price'].apply(lambda x: True if x > 100 else False)\n",
    "    df = df[['first_name', 'last_name', 'price', 'above_100']]\n",
    "    today = date.today()\n",
    "    \n",
    "    df.to_csv(f\"df_{today}_{num}.csv\")"
   ]
  },
  {
   "cell_type": "code",
   "execution_count": 5,
   "metadata": {},
   "outputs": [],
   "source": [
    "def get_processed_files():\n",
    "    process_file(df1, 1) \n",
    "    process_file(df2, 2)"
   ]
  },
  {
   "cell_type": "code",
   "execution_count": 6,
   "metadata": {},
   "outputs": [
    {
     "data": {
      "text/plain": [
       "Every 1 day at 01:00:00 do get_data_files() (last run: [never], next run: 2021-12-21 01:00:00)"
      ]
     },
     "execution_count": 6,
     "metadata": {},
     "output_type": "execute_result"
    }
   ],
   "source": [
    "schedule.every().day.at(\"01:00\").do(get_data_files)"
   ]
  },
  {
   "cell_type": "code",
   "execution_count": 7,
   "metadata": {},
   "outputs": [
    {
     "data": {
      "text/plain": [
       "Every 1 day at 01:00:00 do get_processed_files() (last run: [never], next run: 2021-12-21 01:00:00)"
      ]
     },
     "execution_count": 7,
     "metadata": {},
     "output_type": "execute_result"
    }
   ],
   "source": [
    "schedule.every().day.at(\"01:00\").do(get_processed_files)"
   ]
  },
  {
   "cell_type": "code",
   "execution_count": 8,
   "metadata": {},
   "outputs": [
    {
     "name": "stderr",
     "output_type": "stream",
     "text": [
      "/Users/janson/opt/anaconda3/lib/python3.8/site-packages/pandas/core/frame.py:2963: SettingWithCopyWarning: \n",
      "A value is trying to be set on a copy of a slice from a DataFrame.\n",
      "Try using .loc[row_indexer,col_indexer] = value instead\n",
      "\n",
      "See the caveats in the documentation: https://pandas.pydata.org/pandas-docs/stable/user_guide/indexing.html#returning-a-view-versus-a-copy\n",
      "  self[k1] = value[k2]\n"
     ]
    }
   ],
   "source": [
    "# running to get output\n",
    "\n",
    "df1 = pd.read_csv(\"dataset1.csv\")   \n",
    "df2 = pd.read_csv(\"dataset2.csv\")\n",
    "\n",
    "def process_file1(df, num):\n",
    "    df = df[df['name'].notna()]\n",
    "    df[['first_name', 'last_name']] = df['name'].str.split(' ', 1, expand=True)\n",
    "    df = df.drop(columns = ['name'])\n",
    "    df['price'] = df['price'].apply(lambda x: float(x.lstrip('0')) if type(x) == str else x)\n",
    "    df['above_100'] = df['price'].apply(lambda x: True if x > 100 else False)\n",
    "    df = df[['first_name', 'last_name', 'price', 'above_100']]\n",
    "    today = date.today()\n",
    "    \n",
    "    df.to_csv(f\"df_{today}_{num}.csv\")\n",
    "    \n",
    "process_file1(df1, 1)\n",
    "process_file1(df2, 2)"
   ]
  },
  {
   "cell_type": "code",
   "execution_count": 1,
   "metadata": {},
   "outputs": [
    {
     "ename": "SyntaxError",
     "evalue": "invalid syntax (<ipython-input-1-4ce5f2a2d1fa>, line 1)",
     "output_type": "error",
     "traceback": [
      "\u001b[0;36m  File \u001b[0;32m\"<ipython-input-1-4ce5f2a2d1fa>\"\u001b[0;36m, line \u001b[0;32m1\u001b[0m\n\u001b[0;31m    export AIRFLOW_HOME = 'pwd' airflow_home\u001b[0m\n\u001b[0m           ^\u001b[0m\n\u001b[0;31mSyntaxError\u001b[0m\u001b[0;31m:\u001b[0m invalid syntax\n"
     ]
    }
   ],
   "source": [
    "export AIRFLOW_HOME = 'pwd' airflow_home "
   ]
  },
  {
   "cell_type": "code",
   "execution_count": null,
   "metadata": {},
   "outputs": [],
   "source": []
  }
 ],
 "metadata": {
  "kernelspec": {
   "display_name": "Python 3",
   "language": "python",
   "name": "python3"
  },
  "language_info": {
   "codemirror_mode": {
    "name": "ipython",
    "version": 3
   },
   "file_extension": ".py",
   "mimetype": "text/x-python",
   "name": "python",
   "nbconvert_exporter": "python",
   "pygments_lexer": "ipython3",
   "version": "3.8.3"
  }
 },
 "nbformat": 4,
 "nbformat_minor": 4
}
